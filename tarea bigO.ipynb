{
 "cells": [
  {
   "cell_type": "code",
   "execution_count": null,
   "id": "366b3311-0686-4c89-8281-1634b4756f42",
   "metadata": {},
   "outputs": [],
   "source": [
    "# complejidad BIG O de bubblesort\n",
    "def ordenamiento_burbuja(lista):\n",
    "    n = len(lista)\n",
    "    for i in range(n):\n",
    "        for j in range(0, n-i-1):\n",
    "            if lista[j] > lista[j+1]:\n",
    "                lista[j], lista[j+1] = lista[j+1], lista[j]\n",
    "    return lista\n",
    "\n",
    "\n"
   ]
  },
  {
   "cell_type": "markdown",
   "id": "24e9dcad-7cd6-4a50-9d32-4b88d96efe99",
   "metadata": {},
   "source": [
    "Tomando la entrada n (lista), va a haber un ciclo que se va a repetir n veces, y dentro de este hay un ciclo que se repetira n-i-1 veces cada vez que se ejecute. la complejidad siendo: O(n²)"
   ]
  },
  {
   "cell_type": "code",
   "execution_count": null,
   "id": "248df0ea-b82b-49dd-a8e6-cb886e81ea90",
   "metadata": {},
   "outputs": [],
   "source": [
    "# complejidad select sort\n",
    "\n",
    "def ordenamiento_por_seleccion(arr):\n",
    "    n = len(arr)\n",
    "    for i in range(n):\n",
    "        min_index = i\n",
    "        for j in range(i+1, n):\n",
    "            if arr[j] < arr[min_index]:\n",
    "                min_index = j\n",
    "        arr[i], arr[min_index] = arr[min_index], arr[i]\n",
    "    return arr\n"
   ]
  },
  {
   "cell_type": "markdown",
   "id": "7d0e515d-1460-433e-86fa-1e05ce0f5c9c",
   "metadata": {},
   "source": [
    "este igual que el anterior tiene ciclos anidados por ende la complejidad pasa a ser O(n²)"
   ]
  },
  {
   "cell_type": "code",
   "execution_count": null,
   "id": "ed97d041-0ba2-49ef-a9e0-6fb4135f9e88",
   "metadata": {},
   "outputs": [],
   "source": [
    "#complejidad ordenamientos por insercion\n",
    "\n",
    "def ordenamiento_por_insercion(arr):\n",
    "    for i in range(1, len(arr)):\n",
    "        key = arr[i]\n",
    "        j = i - 1\n",
    "        while j >= 0 and key < arr[j]:\n",
    "            arr[j + 1] = arr[j]\n",
    "            j -= 1\n",
    "        arr[j + 1] = key\n",
    "    return arr"
   ]
  },
  {
   "cell_type": "markdown",
   "id": "8a53c6ea-ea95-4b42-a87c-afa415cb773a",
   "metadata": {},
   "source": [
    "este algoritmo en promedio seria de complejidad O(n²) pero en el mejor de los casos seria O(n) y es si la lista ya este ordenada con anterioridad."
   ]
  }
 ],
 "metadata": {
  "kernelspec": {
   "display_name": "Python 3 (ipykernel)",
   "language": "python",
   "name": "python3"
  },
  "language_info": {
   "codemirror_mode": {
    "name": "ipython",
    "version": 3
   },
   "file_extension": ".py",
   "mimetype": "text/x-python",
   "name": "python",
   "nbconvert_exporter": "python",
   "pygments_lexer": "ipython3",
   "version": "3.12.6"
  }
 },
 "nbformat": 4,
 "nbformat_minor": 5
}
